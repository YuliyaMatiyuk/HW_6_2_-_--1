{
 "cells": [
  {
   "cell_type": "markdown",
   "id": "e152f6d6",
   "metadata": {
    "ExecuteTime": {
     "end_time": "2022-12-10T14:29:24.703416Z",
     "start_time": "2022-12-10T14:29:24.688485Z"
    },
    "id": "e152f6d6"
   },
   "source": [
    "## Домашнє завдання 6: Статистичні тести"
   ]
  },
  {
   "cell_type": "markdown",
   "id": "cd404683",
   "metadata": {
    "id": "cd404683"
   },
   "source": [
    "0. Зчитайте дані з `data.csv` та запишіть значення колонки data у форматі np.ndarray в змінну data. Ми будемо далі працювати з цією змінною."
   ]
  },
  {
   "cell_type": "code",
   "execution_count": 16,
   "id": "a8M1Xqa3hInl",
   "metadata": {
    "id": "a8M1Xqa3hInl"
   },
   "outputs": [
    {
     "name": "stdout",
     "output_type": "stream",
     "text": [
      "Defaulting to user installation because normal site-packages is not writeable\n",
      "Requirement already satisfied: statsmodels in c:\\programdata\\anaconda3\\lib\\site-packages (0.14.0)\n",
      "Requirement already satisfied: numpy>=1.18 in c:\\programdata\\anaconda3\\lib\\site-packages (from statsmodels) (1.24.3)\n",
      "Requirement already satisfied: scipy!=1.9.2,>=1.4 in c:\\programdata\\anaconda3\\lib\\site-packages (from statsmodels) (1.11.1)\n",
      "Requirement already satisfied: pandas>=1.0 in c:\\programdata\\anaconda3\\lib\\site-packages (from statsmodels) (2.0.3)\n",
      "Requirement already satisfied: patsy>=0.5.2 in c:\\programdata\\anaconda3\\lib\\site-packages (from statsmodels) (0.5.3)\n",
      "Requirement already satisfied: packaging>=21.3 in c:\\programdata\\anaconda3\\lib\\site-packages (from statsmodels) (23.1)\n",
      "Requirement already satisfied: python-dateutil>=2.8.2 in c:\\programdata\\anaconda3\\lib\\site-packages (from pandas>=1.0->statsmodels) (2.8.2)\n",
      "Requirement already satisfied: pytz>=2020.1 in c:\\programdata\\anaconda3\\lib\\site-packages (from pandas>=1.0->statsmodels) (2023.3.post1)\n",
      "Requirement already satisfied: tzdata>=2022.1 in c:\\programdata\\anaconda3\\lib\\site-packages (from pandas>=1.0->statsmodels) (2023.3)\n",
      "Requirement already satisfied: six in c:\\programdata\\anaconda3\\lib\\site-packages (from patsy>=0.5.2->statsmodels) (1.16.0)\n"
     ]
    }
   ],
   "source": [
    "import pandas as pd\n",
    "import numpy as np\n"
   ]
  },
  {
   "cell_type": "code",
   "execution_count": 17,
   "id": "NEbstnI_T7kK",
   "metadata": {
    "colab": {
     "base_uri": "https://localhost:8080/",
     "height": 35
    },
    "id": "NEbstnI_T7kK",
    "outputId": "3247f2e9-a5cb-44df-993e-dc2a6bd8ad01"
   },
   "outputs": [
    {
     "data": {
      "text/plain": [
       "'C:\\\\Users\\\\Юлія Матіюк\\\\Python for DA_homework'"
      ]
     },
     "execution_count": 17,
     "metadata": {},
     "output_type": "execute_result"
    }
   ],
   "source": [
    "import os\n",
    "os.getcwd()"
   ]
  },
  {
   "cell_type": "code",
   "execution_count": 18,
   "id": "JW5YxOSxVWYL",
   "metadata": {
    "id": "JW5YxOSxVWYL"
   },
   "outputs": [
    {
     "data": {
      "text/plain": [
       "['ab_data.csv',\n",
       " 'cookie_cats.csv',\n",
       " 'data.csv',\n",
       " 'data_2.csv',\n",
       " 'medical-charges.csv',\n",
       " 'supermarket_sales.csv',\n",
       " 'yulu_rental.csv']"
      ]
     },
     "execution_count": 18,
     "metadata": {},
     "output_type": "execute_result"
    }
   ],
   "source": [
    "os.listdir (\"../Data for homework/\")"
   ]
  },
  {
   "cell_type": "code",
   "execution_count": 19,
   "id": "WwLkbXdiVZLN",
   "metadata": {
    "id": "WwLkbXdiVZLN"
   },
   "outputs": [],
   "source": [
    "data_path = \"../Data for homework/data.csv\"\n",
    "df= pd.read_csv (data_path)"
   ]
  },
  {
   "cell_type": "code",
   "execution_count": 20,
   "id": "da618980",
   "metadata": {},
   "outputs": [],
   "source": [
    "data = df['data'].to_numpy()"
   ]
  },
  {
   "cell_type": "markdown",
   "id": "3d06cbbf",
   "metadata": {
    "id": "3d06cbbf"
   },
   "source": [
    "Запустіть код нижче. Для коректної робити всіх подальших методів дані мають бути у вигляді одновимірного вектора, тобто мати розмір (100,)."
   ]
  },
  {
   "cell_type": "code",
   "execution_count": 21,
   "id": "9f680ad2",
   "metadata": {},
   "outputs": [
    {
     "name": "stdout",
     "output_type": "stream",
     "text": [
      "[17.49945292 19.66239904  7.18282343 29.84162485  9.23938649 14.94951581\n",
      " 23.0172885  12.52827148 13.65228669 14.54595431 23.30872427 33.75324808\n",
      " 20.24923636 13.29244733 23.23434992 16.4230418  19.88521702 27.05000732\n",
      " 15.5127743  20.05415151 14.73135264 19.06139498 21.53942271 14.06732571\n",
      " 17.9670682  18.58289581 16.17406993 12.87432628 11.47269664 19.07902883\n",
      " 18.38565824 33.38820073  5.39139454 20.67635903 22.22266722 28.15780318\n",
      " 23.01114324 14.93471778 20.00005857 23.25411543 18.11895082 24.62607043\n",
      "  8.79145607 30.387108   28.80606806 17.98593597 23.66804468 20.28782355\n",
      " 15.02518827 20.52626131 26.00219532 17.71344489 17.74598346 19.55317542\n",
      " 22.60097798 27.67027538 16.19192417 23.05037746 21.29669604  8.84832568\n",
      " 17.48410111 19.20602661 19.76257856 21.9560206   7.75806171 20.27753314\n",
      " 15.93394654 11.36336584 23.14577858 24.41167746 16.08049839 25.05473769\n",
      " 17.71090111 20.39893405 13.40756632 29.50692234  4.04330326 19.45128426\n",
      " 24.17071763  7.79920072 18.86318441 19.53668801 24.94821803 27.48927752\n",
      " 17.57664638 11.692888   28.20341254 27.3073138  17.22796791 22.10533096\n",
      " 22.2911974  23.39765265 21.22524787 28.44017745  9.57224297 26.24494372\n",
      " 22.28283182 18.69718839 27.04118899  5.93838085]\n"
     ]
    }
   ],
   "source": [
    "print(data)"
   ]
  },
  {
   "cell_type": "code",
   "execution_count": 22,
   "id": "Rc_cM9TfhJYI",
   "metadata": {
    "id": "Rc_cM9TfhJYI"
   },
   "outputs": [
    {
     "data": {
      "text/plain": [
       "(100,)"
      ]
     },
     "execution_count": 22,
     "metadata": {},
     "output_type": "execute_result"
    }
   ],
   "source": [
    "data.shape"
   ]
  },
  {
   "cell_type": "markdown",
   "id": "abdcef5d",
   "metadata": {
    "id": "abdcef5d"
   },
   "source": [
    "1. Зчитані дані - це сума покупок в доларах наших покупців на сайті протягом липня 2022 року.\n",
    "\n",
    "До цього місяця, ми мали продажі в середньому на чек $20. Чи вийшло у нас статистично значущо **підвищити** середній чек за останній місяць?\n",
    "\n",
    "Оберіть статистичний тест (z-test чи t-test). Виведіть p-значення статистичного тесту та зробіть висновок, чи ми маємо зараз статистично значущу різницю у розмірі середнього чеку.\n",
    "\n",
    "**Підказка**: тут тест буде одновибірковий."
   ]
  },
  {
   "cell_type": "code",
   "execution_count": 24,
   "id": "2fc52fa9",
   "metadata": {},
   "outputs": [
    {
     "name": "stdout",
     "output_type": "stream",
     "text": [
      "Defaulting to user installation because normal site-packages is not writeable\n",
      "Requirement already satisfied: statsmodels in c:\\programdata\\anaconda3\\lib\\site-packages (0.14.0)\n",
      "Requirement already satisfied: numpy>=1.18 in c:\\programdata\\anaconda3\\lib\\site-packages (from statsmodels) (1.24.3)\n",
      "Requirement already satisfied: scipy!=1.9.2,>=1.4 in c:\\programdata\\anaconda3\\lib\\site-packages (from statsmodels) (1.11.1)\n",
      "Requirement already satisfied: pandas>=1.0 in c:\\programdata\\anaconda3\\lib\\site-packages (from statsmodels) (2.0.3)\n",
      "Requirement already satisfied: patsy>=0.5.2 in c:\\programdata\\anaconda3\\lib\\site-packages (from statsmodels) (0.5.3)\n",
      "Requirement already satisfied: packaging>=21.3 in c:\\programdata\\anaconda3\\lib\\site-packages (from statsmodels) (23.1)\n",
      "Requirement already satisfied: python-dateutil>=2.8.2 in c:\\programdata\\anaconda3\\lib\\site-packages (from pandas>=1.0->statsmodels) (2.8.2)\n",
      "Requirement already satisfied: pytz>=2020.1 in c:\\programdata\\anaconda3\\lib\\site-packages (from pandas>=1.0->statsmodels) (2023.3.post1)\n",
      "Requirement already satisfied: tzdata>=2022.1 in c:\\programdata\\anaconda3\\lib\\site-packages (from pandas>=1.0->statsmodels) (2023.3)\n",
      "Requirement already satisfied: six in c:\\programdata\\anaconda3\\lib\\site-packages (from patsy>=0.5.2->statsmodels) (1.16.0)\n"
     ]
    }
   ],
   "source": [
    "!pip install statsmodels"
   ]
  },
  {
   "cell_type": "code",
   "execution_count": 26,
   "id": "ed767d30",
   "metadata": {},
   "outputs": [],
   "source": [
    "from statsmodels.stats.weightstats import ztest"
   ]
  },
  {
   "cell_type": "code",
   "execution_count": 28,
   "id": "8bd671f8",
   "metadata": {},
   "outputs": [
    {
     "name": "stdout",
     "output_type": "stream",
     "text": [
      "mean=19.38 stdv=6.22\n"
     ]
    }
   ],
   "source": [
    "print('mean=%.2f stdv=%.2f' % (np.mean(data), np.std(data)))"
   ]
  },
  {
   "cell_type": "code",
   "execution_count": 30,
   "id": "629c7c6a",
   "metadata": {},
   "outputs": [
    {
     "data": {
      "text/plain": [
       "array([17.49945292, 19.66239904,  7.18282343, 29.84162485,  9.23938649,\n",
       "       14.94951581, 23.0172885 , 12.52827148, 13.65228669, 14.54595431,\n",
       "       23.30872427, 33.75324808, 20.24923636, 13.29244733, 23.23434992,\n",
       "       16.4230418 , 19.88521702, 27.05000732, 15.5127743 , 20.05415151,\n",
       "       14.73135264, 19.06139498, 21.53942271, 14.06732571, 17.9670682 ,\n",
       "       18.58289581, 16.17406993, 12.87432628, 11.47269664, 19.07902883,\n",
       "       18.38565824, 33.38820073,  5.39139454, 20.67635903, 22.22266722,\n",
       "       28.15780318, 23.01114324, 14.93471778, 20.00005857, 23.25411543,\n",
       "       18.11895082, 24.62607043,  8.79145607, 30.387108  , 28.80606806,\n",
       "       17.98593597, 23.66804468, 20.28782355, 15.02518827, 20.52626131,\n",
       "       26.00219532, 17.71344489, 17.74598346, 19.55317542, 22.60097798,\n",
       "       27.67027538, 16.19192417, 23.05037746, 21.29669604,  8.84832568,\n",
       "       17.48410111, 19.20602661, 19.76257856, 21.9560206 ,  7.75806171,\n",
       "       20.27753314, 15.93394654, 11.36336584, 23.14577858, 24.41167746,\n",
       "       16.08049839, 25.05473769, 17.71090111, 20.39893405, 13.40756632,\n",
       "       29.50692234,  4.04330326, 19.45128426, 24.17071763,  7.79920072,\n",
       "       18.86318441, 19.53668801, 24.94821803, 27.48927752, 17.57664638,\n",
       "       11.692888  , 28.20341254, 27.3073138 , 17.22796791, 22.10533096,\n",
       "       22.2911974 , 23.39765265, 21.22524787, 28.44017745,  9.57224297,\n",
       "       26.24494372, 22.28283182, 18.69718839, 27.04118899,  5.93838085])"
      ]
     },
     "execution_count": 30,
     "metadata": {},
     "output_type": "execute_result"
    }
   ],
   "source": [
    "data"
   ]
  },
  {
   "cell_type": "code",
   "execution_count": 35,
   "id": "b4be8e31",
   "metadata": {},
   "outputs": [],
   "source": [
    "null_mean = 20\n",
    "alpha = 0.05"
   ]
  },
  {
   "cell_type": "code",
   "execution_count": 36,
   "id": "XhxcSbYqhLz9",
   "metadata": {
    "id": "XhxcSbYqhLz9"
   },
   "outputs": [],
   "source": [
    "ztest_Score, p_value = ztest(data, value = null_mean, alternative='larger')"
   ]
  },
  {
   "cell_type": "code",
   "execution_count": 37,
   "id": "5be2a5e0",
   "metadata": {},
   "outputs": [
    {
     "data": {
      "text/plain": [
       "(-0.9953477389335053, 0.8402164165464012)"
      ]
     },
     "execution_count": 37,
     "metadata": {},
     "output_type": "execute_result"
    }
   ],
   "source": [
    "ztest_Score, p_value"
   ]
  },
  {
   "cell_type": "code",
   "execution_count": 38,
   "id": "b6050df9",
   "metadata": {},
   "outputs": [
    {
     "name": "stdout",
     "output_type": "stream",
     "text": [
      "Н0 не може бути відхилена.\n"
     ]
    }
   ],
   "source": [
    "if(p_value <  alpha):\n",
    "    print(\"Відхилити Н0.\")\n",
    "else:\n",
    "    print(\"Н0 не може бути відхилена.\")"
   ]
  },
  {
   "cell_type": "markdown",
   "id": "b0b9d20a",
   "metadata": {},
   "source": [
    "Для прийняття рішення про статистичну значущість різниці у розмірі середнього чеку, ми порівнюємо p-значення з рівнем значущості альфа.\n",
    "p-значення = 0.8402164165464012, що значно більше за 0.05.\n",
    "Таким чином, ми не маємо статистично значущої різниці у розмірі середнього чеку. \n",
    "Це означає, що немає достатніх підстав стверджувати, що середній чек за останній місяць відрізняється \n",
    "від попереднього середнього значення $20.\n"
   ]
  },
  {
   "cell_type": "markdown",
   "id": "05219e41",
   "metadata": {
    "ExecuteTime": {
     "end_time": "2022-12-10T14:52:46.140204Z",
     "start_time": "2022-12-10T14:52:46.112068Z"
    },
    "id": "05219e41"
   },
   "source": [
    "2. Пройшов час, і ми зібрали дані про продажі за серпень 2022 року, які зберігли у файл `data_2.csv`. Продажів було дещо більше, але чи змінився стат. значущо середній чек порівняно з липнем 2022? Перевірте це використовуючи ztest.\n",
    "\n",
    "  Виведіть p-значення статистичного тесту та зробіть висновок, чи ми маємо зараз статистично значущу різницю у розмірі середнього чека між двома місяцями.\n",
    "\n",
    "  **Підказка**: треба провести двовибірковий ztest з Н0 - що середні значення в липні та серпні 2022 року - однакові. Для кращого розуміння ситуації, можливо вам буде цікаво переглянути, які середні показники чеку були в кожен з місяців. Порівняйте свій висновок з простого спостереження середніх значень і висновок статистичного тесту. Чи вони збігаються?"
   ]
  },
  {
   "cell_type": "code",
   "execution_count": 41,
   "id": "cedb7665",
   "metadata": {},
   "outputs": [
    {
     "data": {
      "text/plain": [
       "['ab_data.csv',\n",
       " 'cookie_cats.csv',\n",
       " 'data.csv',\n",
       " 'data_2.csv',\n",
       " 'medical-charges.csv',\n",
       " 'supermarket_sales.csv',\n",
       " 'yulu_rental.csv']"
      ]
     },
     "execution_count": 41,
     "metadata": {},
     "output_type": "execute_result"
    }
   ],
   "source": [
    "os.listdir (\"../Data for homework/\")"
   ]
  },
  {
   "cell_type": "code",
   "execution_count": 42,
   "id": "hbs7LPI4hP-6",
   "metadata": {
    "id": "hbs7LPI4hP-6"
   },
   "outputs": [],
   "source": [
    "data_path = \"../Data for homework/data_2.csv\"\n",
    "df= pd.read_csv (data_path)"
   ]
  },
  {
   "cell_type": "code",
   "execution_count": 43,
   "id": "f2d569fd",
   "metadata": {},
   "outputs": [],
   "source": [
    "data_august = df['data'].to_numpy()"
   ]
  },
  {
   "cell_type": "code",
   "execution_count": 44,
   "id": "028f3ca9",
   "metadata": {},
   "outputs": [
    {
     "name": "stdout",
     "output_type": "stream",
     "text": [
      "[ 5.94015879 29.18934391 11.38350244 15.43409823 19.89675209 26.35462741\n",
      " 21.71541042 30.07928738 18.559706    8.98262482 21.75095478 21.99252789\n",
      " 16.37737276 18.36827303 15.96373794 30.98838431 16.13256609 11.01409438\n",
      " 21.96585507  9.46690988 23.42563685 21.53704461 13.26051457 17.14026368\n",
      " 15.42554536 30.6793921  21.26136766 12.18702858 10.69691295 21.57137244\n",
      " 19.44915472 15.29409103 21.20725805 18.5615031  27.27465429 22.71259245\n",
      " 19.41187696 21.98647106 13.33332309 26.42199496 23.87611696 16.09133552\n",
      " 20.95972522 15.47445472 32.79323825 16.42470817 23.61838166 22.92533987\n",
      " 14.82328184 19.14936908 17.61708292 20.76144078 20.88864519 22.17749704\n",
      " 24.44099555 17.42064342 19.01311241 17.11869915 14.66455092  9.59578906\n",
      " 23.93038503 18.80003123 16.62880551  9.30221669 10.74561613  5.00093505\n",
      " 18.64262674 23.06962246 23.27815123 19.56141603 14.07482487 19.67979235\n",
      " 20.42825975 23.21152701 25.38472731 18.32183161 18.40471839 23.90049615\n",
      " 22.82595361 17.8883959   7.69030253 15.65278307 25.46426689 19.88110497\n",
      " 26.00681157 18.6329991  20.01875783 24.54669482 23.53397824 22.66170117\n",
      " 26.54318517 28.49067512 28.26177047  8.79769859 15.74868453 17.5587485\n",
      " 18.25251678 12.41697717 28.65554398 13.35890789 18.55112891  6.06913755\n",
      " 16.95560427 17.22003895 15.26047544 24.40168713 33.85257121 12.79623496\n",
      " 15.75786194 30.56181596 23.10622576 17.12450518 11.93884885 25.61775034\n",
      " 21.78617867 31.3049159  15.82267598 19.2913942  19.03674666 18.8478986 ]\n"
     ]
    }
   ],
   "source": [
    "print (data_august)"
   ]
  },
  {
   "cell_type": "code",
   "execution_count": 47,
   "id": "2c319077",
   "metadata": {},
   "outputs": [
    {
     "data": {
      "text/plain": [
       "['ab_data.csv',\n",
       " 'cookie_cats.csv',\n",
       " 'data.csv',\n",
       " 'data_2.csv',\n",
       " 'medical-charges.csv',\n",
       " 'supermarket_sales.csv',\n",
       " 'yulu_rental.csv']"
      ]
     },
     "execution_count": 47,
     "metadata": {},
     "output_type": "execute_result"
    }
   ],
   "source": [
    "os.listdir (\"../Data for homework/\")"
   ]
  },
  {
   "cell_type": "code",
   "execution_count": 48,
   "id": "5fd399b2",
   "metadata": {},
   "outputs": [],
   "source": [
    "data_path = \"../Data for homework/data.csv\"\n",
    "df= pd.read_csv (data_path)"
   ]
  },
  {
   "cell_type": "code",
   "execution_count": 49,
   "id": "a8f8730e",
   "metadata": {},
   "outputs": [],
   "source": [
    "data_july = df['data'].to_numpy()"
   ]
  },
  {
   "cell_type": "code",
   "execution_count": 50,
   "id": "65ab8be5",
   "metadata": {},
   "outputs": [
    {
     "name": "stdout",
     "output_type": "stream",
     "text": [
      "[17.49945292 19.66239904  7.18282343 29.84162485  9.23938649 14.94951581\n",
      " 23.0172885  12.52827148 13.65228669 14.54595431 23.30872427 33.75324808\n",
      " 20.24923636 13.29244733 23.23434992 16.4230418  19.88521702 27.05000732\n",
      " 15.5127743  20.05415151 14.73135264 19.06139498 21.53942271 14.06732571\n",
      " 17.9670682  18.58289581 16.17406993 12.87432628 11.47269664 19.07902883\n",
      " 18.38565824 33.38820073  5.39139454 20.67635903 22.22266722 28.15780318\n",
      " 23.01114324 14.93471778 20.00005857 23.25411543 18.11895082 24.62607043\n",
      "  8.79145607 30.387108   28.80606806 17.98593597 23.66804468 20.28782355\n",
      " 15.02518827 20.52626131 26.00219532 17.71344489 17.74598346 19.55317542\n",
      " 22.60097798 27.67027538 16.19192417 23.05037746 21.29669604  8.84832568\n",
      " 17.48410111 19.20602661 19.76257856 21.9560206   7.75806171 20.27753314\n",
      " 15.93394654 11.36336584 23.14577858 24.41167746 16.08049839 25.05473769\n",
      " 17.71090111 20.39893405 13.40756632 29.50692234  4.04330326 19.45128426\n",
      " 24.17071763  7.79920072 18.86318441 19.53668801 24.94821803 27.48927752\n",
      " 17.57664638 11.692888   28.20341254 27.3073138  17.22796791 22.10533096\n",
      " 22.2911974  23.39765265 21.22524787 28.44017745  9.57224297 26.24494372\n",
      " 22.28283182 18.69718839 27.04118899  5.93838085]\n"
     ]
    }
   ],
   "source": [
    "print (data_july)"
   ]
  },
  {
   "cell_type": "code",
   "execution_count": 51,
   "id": "e7e610aa",
   "metadata": {},
   "outputs": [
    {
     "data": {
      "text/plain": [
       "(19.37755319670441, 19.37322276512519)"
      ]
     },
     "execution_count": 51,
     "metadata": {},
     "output_type": "execute_result"
    }
   ],
   "source": [
    "np.mean (data_july), np.mean (data_august)"
   ]
  },
  {
   "cell_type": "code",
   "execution_count": 52,
   "id": "1e5bce5f",
   "metadata": {},
   "outputs": [
    {
     "data": {
      "text/plain": [
       "(0.005246673456808504, 0.9958137794593356)"
      ]
     },
     "execution_count": 52,
     "metadata": {},
     "output_type": "execute_result"
    }
   ],
   "source": [
    "ztest(data_july, data_august, value = 0)"
   ]
  },
  {
   "cell_type": "markdown",
   "id": "63a54267",
   "metadata": {},
   "source": [
    "Висновок: p-значення = 0.9958137794593356, що значно більше за 0.05. Таким чином, ми не маємо статистично значущої різниці у розмірі середнього чеку між липнем та серпнем 2022 року, це також видно з середніх показників чеків в ці місяці. Це означає, що на основі зібраних даних ми не можемо стверджувати, що середній чек у серпні значущо відрізняється від середнього чеку у липні. Нульова гіпотеза не може бути відхилена."
   ]
  },
  {
   "cell_type": "code",
   "execution_count": null,
   "id": "555a6462",
   "metadata": {},
   "outputs": [],
   "source": []
  }
 ],
 "metadata": {
  "colab": {
   "provenance": []
  },
  "hide_input": false,
  "kernelspec": {
   "display_name": "Python 3 (ipykernel)",
   "language": "python",
   "name": "python3"
  },
  "language_info": {
   "codemirror_mode": {
    "name": "ipython",
    "version": 3
   },
   "file_extension": ".py",
   "mimetype": "text/x-python",
   "name": "python",
   "nbconvert_exporter": "python",
   "pygments_lexer": "ipython3",
   "version": "3.11.5"
  },
  "toc": {
   "base_numbering": 1,
   "nav_menu": {},
   "number_sections": true,
   "sideBar": true,
   "skip_h1_title": false,
   "title_cell": "Table of Contents",
   "title_sidebar": "Contents",
   "toc_cell": false,
   "toc_position": {},
   "toc_section_display": true,
   "toc_window_display": false
  },
  "varInspector": {
   "cols": {
    "lenName": 16,
    "lenType": 16,
    "lenVar": 40
   },
   "kernels_config": {
    "python": {
     "delete_cmd_postfix": "",
     "delete_cmd_prefix": "del ",
     "library": "var_list.py",
     "varRefreshCmd": "print(var_dic_list())"
    },
    "r": {
     "delete_cmd_postfix": ") ",
     "delete_cmd_prefix": "rm(",
     "library": "var_list.r",
     "varRefreshCmd": "cat(var_dic_list()) "
    }
   },
   "types_to_exclude": [
    "module",
    "function",
    "builtin_function_or_method",
    "instance",
    "_Feature"
   ],
   "window_display": false
  }
 },
 "nbformat": 4,
 "nbformat_minor": 5
}
